{
 "cells": [
  {
   "cell_type": "code",
   "execution_count": 1,
   "id": "9cd98307-dbb1-44a9-93e5-fd70e4710475",
   "metadata": {},
   "outputs": [],
   "source": [
    "import re\n",
    "from pdfminer.high_level import extract_text"
   ]
  },
  {
   "cell_type": "code",
   "execution_count": 2,
   "id": "42e185e3-e61c-49f8-b3b4-d78e3ddfd558",
   "metadata": {},
   "outputs": [],
   "source": [
    "def extract_txt_from_pdf(pdf_path):\n",
    "    return extract_text(pdf_path)"
   ]
  },
  {
   "cell_type": "code",
   "execution_count": 3,
   "id": "acd5fc76-2523-48e4-ab94-752dca180814",
   "metadata": {},
   "outputs": [
    {
     "data": {
      "text/plain": [
       "'Karthika S \\n\\nSalem,Tamilnadu  |  karthikaselvakumar2005@gmail.com  |  8148782759  | \\n\\nhttps://www.linkedin.com/in/karthikas08/  |  https://github.com/KarthikaS08/ \\n\\nExecutive Summary \\n\\nSoftware Engineer with a BE in CSE, specializing in machine learning, data science, NLP, OpenCV, and full-stack \\ndevelopment. Proficient in Flask, Python, and AI-driven system design, with hands-on experience in developing \\nscalable solutions, optimizing computational performance, and implementing data-driven applications. Passionate \\nabout building high-performance AI models, intelligent automation systems, and efficient software solutions. \\n\\nEducation \\n\\nMahendra College Of Engineering, BE in Computer Science and Engineering \\n2026 \\n•  CGPA: 8.4/10 (Equivalent to ~3.36/4.0) \\n•  Coursework:   Machine Learning , Web Development , Data Science, Data Structures and Algorithm, Operating \\n\\nNovember 2022 – May \\n\\nSystems. \\n\\nTechnical Skills \\n\\nTools : \\n•  Data Science Tools :  Jupyter Notebooks, Anaconda. \\n•  Version and Control : Git and Github \\n•  Web Development :  Flask , HTML , CSS , JavaScript \\n•  IDE & Development Environments :  Visual Studio Code , PyCharm \\n•  Computer Vision Tool  :  Open CV \\n•  Data Visualization : Matplotlib ,  Seaborn \\n•  Machine Learning Framewoks : TensorFlow , Keras , scikit- learn \\n\\nTechnologies : \\n•  Machine Learning :  Supervised Learning, Unsupervised Learning, Model Evaluation(Cross Validation , Confusion \\n\\nMatrix), Feature Engineering \\n\\n•  Data Science : Predictive Modeling, Data Preprocessing , Time Series Analysis , Statistical Analysis \\n•  Web development :  Responsive Design \\n•  Natural Language Processing(NLP) :  Text Classification , Sentiment Analysis \\n•  Computer Vision :  Object Detection , Edge Detection \\n\\nProjects \\n\\nResume Categorization , Job Recommendation and Parsing System  \\nTools and Technologies : Python , Spacy , Scikit-learn , Flask , HTML , CSS , Regular Expression \\n•  Designed and developed an automated system for resume categorization and job recommendation using \\n\\nNatural Language Processing (NLP) and machine learning algorithms. \\n\\n•  Utilized SpaCy for text preprocessing and feature extraction (e.g., TF-IDF, Bag of Words), achieving 95% accuracy \\n\\nin resume parsing. \\n\\n•  Implemented a Random Forest Classifier to classify resumes into predefined categories, improving classification \\n\\nspeed by 40%. \\n\\n•  Developed a job recommendation engine based on collaborative filtering and content-based algorithms, \\n\\nresulting in a 30% increase in user engagement and application submissions. \\n\\n•  Built a responsive web interface using Flask, HTML, CSS, and JavaScript, enabling real-time interaction and \\n\\nseamless user experience. \\n\\nAutomatic Attendance by Face Recognition  \\n\\n\\x0cTools and Techniques: Python , OpenCV , Face Recognition , Flask , HTML , CSS  \\n•  Developed a face recognition-based attendance system to automate the process of tracking student attendance \\n\\nin classrooms. \\n\\n•  Utilized OpenCV for real-time face detection and Face Recognition library for matching student faces with \\n\\ndatabase records, ensuring a high level of accuracy in identification. \\n\\n•  Integrated Dlib for facial landmark detection and facial feature extraction, optimizing the system’s ability to \\n\\nrecognize faces under varying conditions (lighting, angle, etc.). \\n\\n•  Developed a web interface using Flask, HTML, CSS, and JavaScript, allowing teachers to view and manage \\n\\nattendance records in real-time. \\n\\n•  Stored attendance data in Excel, providing efficient querying and reporting of attendance history. \\n\\n E-commerce Website Development \\n\\n Tools and Technologies : HTML , CSS , JavaScript \\n•  Developed a fully functional e-commerce website to enable users to browse and purchase products online, \\n\\nproviding a seamless shopping experience. \\n\\n•  Utilized HTML for structuring web pages, CSS for styling and making the website mobile-responsive, and \\n\\nJavaScript to add interactivity such as dynamic product displays and shopping cart features. \\n\\n•  Implemented a responsive design, ensuring the website adapted to various screen sizes, from desktops to \\n\\nmobile devices, for a user-friendly experience across platforms. \\n\\n•  Optimized website performance, reducing page load time by 25% by optimizing images, minifying CSS/JS files, \\n\\nand utilizing asynchronous loading. \\n\\n•  Tested for cross-browser compatibility, ensuring the website functioned consistently across all major browsers \\n\\nand devices. \\n\\n•  Incorporated product search and filter functionalities, allowing users to easily find and select products, which \\n\\nimproved user engagement and browsing efficiency. \\n\\n \\n\\x0c'"
      ]
     },
     "execution_count": 3,
     "metadata": {},
     "output_type": "execute_result"
    }
   ],
   "source": [
    "resume_path = r\"C:\\Users\\KARTHIKA\\Downloads\\ResumeKarthika.pdf\"\n",
    "text = extract_txt_from_pdf(resume_path)\n",
    "text"
   ]
  },
  {
   "cell_type": "code",
   "execution_count": 4,
   "id": "cf68a2b9-9fa5-4a90-9664-8ed909bd6acc",
   "metadata": {},
   "outputs": [
    {
     "data": {
      "text/plain": [
       "'Karthika S Salem,Tamilnadu  |  karthikaselvakumar2005@gmail.com  |  8148782759  | https://www.linkedin.com/in/karthikas08/  |  https://github.com/KarthikaS08/ Executive Summary Software Engineer with a BE in CSE, specializing in machine learning, data science, NLP, OpenCV, and full-stack \\ndevelopment. Proficient in Flask, Python, and AI-driven system design, with hands-on experience in developing \\nscalable solutions, optimizing computational performance, and implementing data-driven applications. Passionate \\nabout building high-performance AI models, intelligent automation systems, and efficient software solutions. Education Mahendra College Of Engineering, BE in Computer Science and Engineering \\n2026 \\n•  CGPA: 8.4/10 (Equivalent to ~3.36/4.0) \\n•  Coursework:   Machine Learning , Web Development , Data Science, Data Structures and Algorithm, Operating November 2022 – May Systems. Technical Skills Tools : \\n•  Data Science Tools :  Jupyter Notebooks, Anaconda. \\n•  Version and Control : Git and Github \\n•  Web Development :  Flask , HTML , CSS , JavaScript \\n•  IDE & Development Environments :  Visual Studio Code , PyCharm \\n•  Computer Vision Tool  :  Open CV \\n•  Data Visualization : Matplotlib ,  Seaborn \\n•  Machine Learning Framewoks : TensorFlow , Keras , scikit- learn Technologies : \\n•  Machine Learning :  Supervised Learning, Unsupervised Learning, Model Evaluation(Cross Validation , Confusion Matrix), Feature Engineering •  Data Science : Predictive Modeling, Data Preprocessing , Time Series Analysis , Statistical Analysis \\n•  Web development :  Responsive Design \\n•  Natural Language Processing(NLP) :  Text Classification , Sentiment Analysis \\n•  Computer Vision :  Object Detection , Edge Detection Projects Resume Categorization , Job Recommendation and Parsing System  \\nTools and Technologies : Python , Spacy , Scikit-learn , Flask , HTML , CSS , Regular Expression \\n•  Designed and developed an automated system for resume categorization and job recommendation using Natural Language Processing (NLP) and machine learning algorithms. •  Utilized SpaCy for text preprocessing and feature extraction (e.g., TF-IDF, Bag of Words), achieving 95% accuracy in resume parsing. •  Implemented a Random Forest Classifier to classify resumes into predefined categories, improving classification speed by 40%. •  Developed a job recommendation engine based on collaborative filtering and content-based algorithms, resulting in a 30% increase in user engagement and application submissions. •  Built a responsive web interface using Flask, HTML, CSS, and JavaScript, enabling real-time interaction and seamless user experience. Automatic Attendance by Face Recognition  \\x0cTools and Techniques: Python , OpenCV , Face Recognition , Flask , HTML , CSS  \\n•  Developed a face recognition-based attendance system to automate the process of tracking student attendance in classrooms. •  Utilized OpenCV for real-time face detection and Face Recognition library for matching student faces with database records, ensuring a high level of accuracy in identification. •  Integrated Dlib for facial landmark detection and facial feature extraction, optimizing the system’s ability to recognize faces under varying conditions (lighting, angle, etc.). •  Developed a web interface using Flask, HTML, CSS, and JavaScript, allowing teachers to view and manage attendance records in real-time. •  Stored attendance data in Excel, providing efficient querying and reporting of attendance history.  E-commerce Website Development  Tools and Technologies : HTML , CSS , JavaScript \\n•  Developed a fully functional e-commerce website to enable users to browse and purchase products online, providing a seamless shopping experience. •  Utilized HTML for structuring web pages, CSS for styling and making the website mobile-responsive, and JavaScript to add interactivity such as dynamic product displays and shopping cart features. •  Implemented a responsive design, ensuring the website adapted to various screen sizes, from desktops to mobile devices, for a user-friendly experience across platforms. •  Optimized website performance, reducing page load time by 25% by optimizing images, minifying CSS/JS files, and utilizing asynchronous loading. •  Tested for cross-browser compatibility, ensuring the website functioned consistently across all major browsers and devices. •  Incorporated product search and filter functionalities, allowing users to easily find and select products, which improved user engagement and browsing efficiency.  \\n\\x0c'"
      ]
     },
     "execution_count": 4,
     "metadata": {},
     "output_type": "execute_result"
    }
   ],
   "source": [
    "def clean_text(text):\n",
    "    \"\"\"Remove unnecessary newlines and spaces from the text.\"\"\"\n",
    "    return text.replace(\"\\n\\n\", \"\")\n",
    "\n",
    "text = clean_text(text)\n",
    "text"
   ]
  },
  {
   "cell_type": "code",
   "execution_count": 5,
   "id": "ed5c9535-d5aa-41d0-9dca-10528d0c0380",
   "metadata": {},
   "outputs": [
    {
     "data": {
      "text/plain": [
       "'8148782759'"
      ]
     },
     "execution_count": 5,
     "metadata": {},
     "output_type": "execute_result"
    }
   ],
   "source": [
    "# Extracting Contact Information\n",
    "\n",
    "def extract_contact_number(text):\n",
    "    contact_number = None\n",
    "    pattern = r\"\\b(?:\\+?\\d{1,3}[-.\\s]?)?\\(?\\d{3}\\)?[-.\\s]?\\d{3}[-.\\s]?\\d{4}\\b\"\n",
    "    match = re.search(pattern,text)\n",
    "    if match:\n",
    "        contact_number = match.group()\n",
    "    return contact_number\n",
    "phone = extract_contact_number(text)\n",
    "phone"
   ]
  },
  {
   "cell_type": "code",
   "execution_count": 6,
   "id": "2c5e8865-1da0-483f-a9f4-32b1295ecfbf",
   "metadata": {},
   "outputs": [
    {
     "name": "stdout",
     "output_type": "stream",
     "text": [
      "karthikaselvakumar2005@gmail.com\n"
     ]
    }
   ],
   "source": [
    "# Extracting Email Address\n",
    "import re\n",
    "def extract_email(text):\n",
    "    email = None\n",
    "    pattern = pattern = r\"\\b[A-Za-z0-9._%+-]+@[A-Za-z0-9.-]+\\.[A-Za-z]{2,}\\b\"\n",
    "    match = re.search(pattern, text)\n",
    "    if match:\n",
    "        email = match.group()\n",
    "    return email\n",
    "email = extract_email(text)\n",
    "print(email)"
   ]
  },
  {
   "cell_type": "code",
   "execution_count": 7,
   "id": "e4d353c5-e1d7-438c-9057-b84f6e5b5031",
   "metadata": {},
   "outputs": [
    {
     "name": "stdout",
     "output_type": "stream",
     "text": [
      "Skills: ['Python', 'Machine Learning', 'JavaScript', 'HTML', 'CSS', 'Git', 'Data Visualization', 'Matplotlib', 'Seaborn', 'Scikit-learn', 'TensorFlow', 'Keras', 'Natural Language Processing', 'Computer Vision', 'Collaborative Filtering', 'Random Forest', 'Web Development', 'Responsive Design', 'E-commerce', 'Reporting', 'Flask', 'Sentiment Analysis', 'Object Detection']\n"
     ]
    }
   ],
   "source": [
    "# Extracting skills\n",
    "\n",
    "import re\n",
    "\n",
    "def extract_skills_from_resume(text, skills_list):\n",
    "    skills = []\n",
    "\n",
    "    for skill in skills_list:\n",
    "        pattern = r\"\\b{}\\b\".format(re.escape(skill))\n",
    "        match = re.search(pattern, text, re.IGNORECASE)\n",
    "        if match:\n",
    "            skills.append(skill)\n",
    "\n",
    "    return skills\n",
    "\n",
    "\n",
    "# List of predefined skills\n",
    "skills_list = [\n",
    "    'Python', 'Data Analysis', 'Machine Learning', 'Communication', 'Project Management', 'Deep Learning', 'SQL', 'Tableau',\n",
    "    'Java', 'C++', 'JavaScript', 'HTML', 'CSS', 'React', 'Angular', 'Node.js', 'MongoDB', 'Express.js', 'Git',\n",
    "    'Research', 'Statistics', 'Quantitative Analysis', 'Qualitative Analysis', 'SPSS', 'R', 'Data Visualization', 'Matplotlib',\n",
    "    'Seaborn', 'Plotly', 'Pandas', 'Numpy', 'Scikit-learn', 'TensorFlow', 'Keras', 'PyTorch', 'NLTK', 'Text Mining',\n",
    "    'Natural Language Processing', 'Computer Vision', 'Image Processing', 'OCR', 'Speech Recognition', 'Recommendation Systems',\n",
    "    'Collaborative Filtering', 'Content-Based Filtering', 'Reinforcement Learning', 'Neural Networks', 'Convolutional Neural Networks',\n",
    "    'Recurrent Neural Networks', 'Generative Adversarial Networks', 'XGBoost', 'Random Forest', 'Decision Trees', 'Support Vector Machines',\n",
    "    'Linear Regression', 'Logistic Regression', 'K-Means Clustering', 'Hierarchical Clustering', 'DBSCAN', 'Association Rule Learning',\n",
    "    'Apache Hadoop', 'Apache Spark', 'MapReduce', 'Hive', 'HBase', 'Apache Kafka', 'Data Warehousing', 'ETL', 'Big Data Analytics',\n",
    "    'Cloud Computing', 'Amazon Web Services (AWS)', 'Microsoft Azure', 'Google Cloud Platform (GCP)', 'Docker', 'Kubernetes', 'Linux',\n",
    "    'Shell Scripting', 'Cybersecurity', 'Network Security', 'Penetration Testing', 'Firewalls', 'Encryption', 'Malware Analysis',\n",
    "    'Digital Forensics', 'CI/CD', 'DevOps', 'Agile Methodology', 'Scrum', 'Kanban', 'Continuous Integration', 'Continuous Deployment',\n",
    "    'Software Development', 'Web Development', 'Mobile Development', 'Backend Development', 'Frontend Development', 'Full-Stack Development',\n",
    "    'UI/UX Design', 'Responsive Design', 'Wireframing', 'Prototyping', 'User Testing', 'Adobe Creative Suite', 'Photoshop', 'Illustrator',\n",
    "    'InDesign', 'Figma', 'Sketch', 'Zeplin', 'InVision', 'Product Management', 'Market Research', 'Customer Development', 'Lean Startup',\n",
    "    'Business Development', 'Sales', 'Marketing', 'Content Marketing', 'Social Media Marketing', 'Email Marketing', 'SEO', 'SEM', 'PPC',\n",
    "    'Google Analytics', 'Facebook Ads', 'LinkedIn Ads', 'Lead Generation', 'Customer Relationship Management (CRM)', 'Salesforce',\n",
    "    'HubSpot', 'Zendesk', 'Intercom', 'Customer Support', 'Technical Support', 'Troubleshooting', 'Ticketing Systems', 'ServiceNow',\n",
    "    'ITIL', 'Quality Assurance', 'Manual Testing', 'Automated Testing', 'Selenium', 'JUnit', 'Load Testing', 'Performance Testing',\n",
    "    'Regression Testing', 'Black Box Testing', 'White Box Testing', 'API Testing', 'Mobile Testing', 'Usability Testing', 'Accessibility Testing',\n",
    "    'Cross-Browser Testing', 'Agile Testing', 'User Acceptance Testing', 'Software Documentation', 'Technical Writing', 'Copywriting',\n",
    "    'Editing', 'Proofreading', 'Content Management Systems (CMS)', 'WordPress', 'Joomla', 'Drupal', 'Magento', 'Shopify', 'E-commerce',\n",
    "    'Payment Gateways', 'Inventory Management', 'Supply Chain Management', 'Logistics', 'Procurement', 'ERP Systems', 'SAP', 'Oracle',\n",
    "    'Microsoft Dynamics', 'Tableau', 'Power BI', 'QlikView', 'Looker', 'Data Warehousing', 'ETL', 'Data Engineering', 'Data Governance',\n",
    "    'Data Quality', 'Master Data Management', 'Predictive Analytics', 'Prescriptive Analytics', 'Descriptive Analytics', 'Business Intelligence',\n",
    "    'Dashboarding', 'Reporting', 'Data Mining', 'Web Scraping', 'API Integration', 'RESTful APIs', 'GraphQL', 'SOAP', 'Microservices',\n",
    "    'Serverless Architecture', 'Lambda Functions', 'Event-Driven Architecture', 'Message Queues', 'GraphQL', 'Socket.io', 'WebSockets'\n",
    "'Ruby', 'Ruby on Rails', 'PHP', 'Symfony', 'Laravel', 'CakePHP', 'Zend Framework', 'ASP.NET', 'C#', 'VB.NET', 'ASP.NET MVC', 'Entity Framework',\n",
    "    'Spring', 'Hibernate', 'Struts', 'Kotlin', 'Swift', 'Objective-C', 'iOS Development', 'Android Development', 'Flutter', 'React Native', 'Ionic',\n",
    "    'Mobile UI/UX Design', 'Material Design', 'SwiftUI', 'RxJava', 'RxSwift', 'Django', 'Flask', 'FastAPI', 'Falcon', 'Tornado', 'WebSockets',\n",
    "    'GraphQL', 'RESTful Web Services', 'SOAP', 'Microservices Architecture', 'Serverless Computing', 'AWS Lambda', 'Google Cloud Functions',\n",
    "    'Azure Functions', 'Server Administration', 'System Administration', 'Network Administration', 'Database Administration', 'MySQL', 'PostgreSQL',\n",
    "    'SQLite', 'Microsoft SQL Server', 'Oracle Database', 'NoSQL', 'MongoDB', 'Cassandra', 'Redis', 'Elasticsearch', 'Firebase', 'Google Analytics',\n",
    "    'Google Tag Manager', 'Adobe Analytics', 'Marketing Automation', 'Customer Data Platforms', 'Segment', 'Salesforce Marketing Cloud', 'HubSpot CRM',\n",
    "    'Zapier', 'IFTTT', 'Workflow Automation', 'Robotic Process Automation (RPA)', 'UI Automation', 'Natural Language Generation (NLG)',\n",
    "    'Virtual Reality (VR)', 'Augmented Reality (AR)', 'Mixed Reality (MR)', 'Unity', 'Unreal Engine', '3D Modeling', 'Animation', 'Motion Graphics',\n",
    "    'Game Design', 'Game Development', 'Level Design', 'Unity3D', 'Unreal Engine 4', 'Blender', 'Maya', 'Adobe After Effects', 'Adobe Premiere Pro',\n",
    "    'Final Cut Pro', 'Video Editing', 'Audio Editing', 'Sound Design', 'Music Production', 'Digital Marketing', 'Content Strategy', 'Conversion Rate Optimization (CRO)',\n",
    "    'A/B Testing', 'Customer Experience (CX)', 'User Experience (UX)', 'User Interface (UI)', 'Persona Development', 'User Journey Mapping', 'Information Architecture (IA)',\n",
    "    'Wireframing', 'Prototyping', 'Usability Testing', 'Accessibility Compliance', 'Internationalization (I18n)', 'Localization (L10n)', 'Voice User Interface (VUI)',\n",
    "    'Chatbots', 'Natural Language Understanding (NLU)', 'Speech Synthesis', 'Emotion Detection', 'Sentiment Analysis', 'Image Recognition', 'Object Detection',\n",
    "    'Facial Recognition', 'Gesture Recognition', 'Document Recognition', 'Fraud Detection', 'Cyber Threat Intelligence', 'Security Information and Event Management (SIEM)',\n",
    "    'Vulnerability Assessment', 'Incident Response', 'Forensic Analysis', 'Security Operations Center (SOC)', 'Identity and Access Management (IAM)', 'Single Sign-On (SSO)',\n",
    "    'Multi-Factor Authentication (MFA)', 'Blockchain', 'Cryptocurrency', 'Decentralized Finance (DeFi)', 'Smart Contracts', 'Web3', 'Non-Fungible Tokens (NFTs)']\n",
    "\n",
    "extracted_skills = extract_skills_from_resume(text, skills_list)\n",
    "\n",
    "if extracted_skills:\n",
    "    print(\"Skills:\", extracted_skills)\n",
    "else:\n",
    "    print(\"No skills found\")"
   ]
  },
  {
   "cell_type": "code",
   "execution_count": 8,
   "id": "de81ad1b-33b6-44dd-88cb-62b661c7426b",
   "metadata": {},
   "outputs": [
    {
     "name": "stdout",
     "output_type": "stream",
     "text": [
      "Education: ['Computer Science', 'history', 'Education', 'data science', 'Web Development']\n"
     ]
    }
   ],
   "source": [
    "# Extracting Education\n",
    "\n",
    "import re\n",
    "\n",
    "def extract_education_from_resume(text):\n",
    "    education = []\n",
    "\n",
    "    # List of education keywords to match against\n",
    "    education_keywords = [\n",
    "        'Computer Science', 'Information Technology', 'Software Engineering', 'Electrical Engineering', 'Mechanical Engineering', 'Civil Engineering',\n",
    "        'Chemical Engineering', 'Biomedical Engineering', 'Aerospace Engineering', 'Nuclear Engineering', 'Industrial Engineering', 'Systems Engineering',\n",
    "        'Environmental Engineering', 'Petroleum Engineering', 'Geological Engineering', 'Marine Engineering', 'Robotics Engineering', 'Biotechnology',\n",
    "        'Biochemistry', 'Microbiology', 'Genetics', 'Molecular Biology', 'Bioinformatics', 'Neuroscience', 'Biophysics', 'Biostatistics', 'Pharmacology',\n",
    "        'Physiology', 'Anatomy', 'Pathology', 'Immunology', 'Epidemiology', 'Public Health', 'Health Administration', 'Nursing', 'Medicine', 'Dentistry',\n",
    "        'Pharmacy', 'Veterinary Medicine', 'Medical Technology', 'Radiography', 'Physical Therapy', 'Occupational Therapy', 'Speech Therapy', 'Nutrition',\n",
    "        'Sports Science', 'Kinesiology', 'Exercise Physiology', 'Sports Medicine', 'Rehabilitation Science', 'Psychology', 'Counseling', 'Social Work',\n",
    "        'Sociology', 'Anthropology', 'Criminal Justice', 'Political Science', 'International Relations', 'Economics', 'Finance', 'Accounting', 'Business Administration',\n",
    "        'Management', 'Marketing', 'Entrepreneurship', 'Hospitality Management', 'Tourism Management', 'Supply Chain Management', 'Logistics Management',\n",
    "        'Operations Management', 'Human Resource Management', 'Organizational Behavior', 'Project Management', 'Quality Management', 'Risk Management',\n",
    "        'Strategic Management', 'Public Administration', 'Urban Planning', 'Architecture', 'Interior Design', 'Landscape Architecture', 'Fine Arts',\n",
    "        'Visual Arts', 'Graphic Design', 'Fashion Design', 'Industrial Design', 'Product Design', 'Animation', 'Film Studies', 'Media Studies',\n",
    "        'Communication Studies', 'Journalism', 'Broadcasting', 'Creative Writing', 'English Literature', 'Linguistics', 'Translation Studies',\n",
    "        'Foreign Languages', 'Modern Languages', 'Classical Studies', 'History', 'Archaeology', 'Philosophy', 'Theology', 'Religious Studies',\n",
    "        'Ethics', 'Education', 'Early Childhood Education', 'Elementary Education', 'Secondary Education', 'Special Education', 'Higher Education',\n",
    "        'Adult Education', 'Distance Education', 'Online Education', 'Instructional Design', 'Curriculum Development'\n",
    "        'Library Science', 'Information Science', 'Computer Engineering', 'Software Development', 'Cybersecurity', 'Information Security',\n",
    "        'Network Engineering', 'Data Science', 'Data Analytics', 'Business Analytics', 'Operations Research', 'Decision Sciences',\n",
    "        'Human-Computer Interaction', 'User Experience Design', 'User Interface Design', 'Digital Marketing', 'Content Strategy',\n",
    "        'Brand Management', 'Public Relations', 'Corporate Communications', 'Media Production', 'Digital Media', 'Web Development',\n",
    "        'Mobile App Development', 'Game Development', 'Virtual Reality', 'Augmented Reality', 'Blockchain Technology', 'Cryptocurrency',\n",
    "        'Digital Forensics', 'Forensic Science', 'Criminalistics', 'Crime Scene Investigation', 'Emergency Management', 'Fire Science',\n",
    "        'Environmental Science', 'Climate Science', 'Meteorology', 'Geography', 'Geomatics', 'Remote Sensing', 'Geoinformatics',\n",
    "        'Cartography', 'GIS (Geographic Information Systems)', 'Environmental Management', 'Sustainability Studies', 'Renewable Energy',\n",
    "        'Green Technology', 'Ecology', 'Conservation Biology', 'Wildlife Biology', 'Zoology']\n",
    "\n",
    "    for keyword in education_keywords:\n",
    "        pattern = r\"(?i)\\b{}\\b\".format(re.escape(keyword))\n",
    "        match = re.search(pattern, text)\n",
    "        if match:\n",
    "            education.append(match.group())\n",
    "\n",
    "    return education\n",
    "\n",
    "extracted_education = extract_education_from_resume(text)\n",
    "if extracted_education:\n",
    "    print(\"Education:\", extracted_education)\n",
    "else:\n",
    "    print(\"No education information found\")"
   ]
  },
  {
   "cell_type": "code",
   "execution_count": 9,
   "id": "ff30d461-f34d-4bb2-8744-5fb8b24bbdfd",
   "metadata": {},
   "outputs": [
    {
     "name": "stdout",
     "output_type": "stream",
     "text": [
      "Name: Karthika\n"
     ]
    }
   ],
   "source": [
    "# Extracting Name\n",
    "def extract_name_from_resume(text):\n",
    "    name = None\n",
    "\n",
    "    # Use regex pattern to find a potential name\n",
    "    pattern = r'\\b[A-Z][a-z]+(?:\\s[A-Z][a-z]+)*\\b'\n",
    "    match = re.search(pattern, text)\n",
    "    if match:\n",
    "        name = match.group()\n",
    "\n",
    "    return name\n",
    "\n",
    "name = extract_name_from_resume(text)\n",
    "\n",
    "if name:\n",
    "    print(\"Name:\", name)\n",
    "else:\n",
    "    print(\"Name not found\")"
   ]
  },
  {
   "cell_type": "code",
   "execution_count": null,
   "id": "5fd23eaf-82df-40b0-91a3-ac5e953b1a33",
   "metadata": {},
   "outputs": [],
   "source": []
  }
 ],
 "metadata": {
  "kernelspec": {
   "display_name": "Python 3 (ipykernel)",
   "language": "python",
   "name": "python3"
  },
  "language_info": {
   "codemirror_mode": {
    "name": "ipython",
    "version": 3
   },
   "file_extension": ".py",
   "mimetype": "text/x-python",
   "name": "python",
   "nbconvert_exporter": "python",
   "pygments_lexer": "ipython3",
   "version": "3.11.7"
  }
 },
 "nbformat": 4,
 "nbformat_minor": 5
}
