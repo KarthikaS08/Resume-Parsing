{
 "cells": [
  {
   "cell_type": "code",
   "execution_count": 14,
   "id": "f705dc96-e3d3-4041-b742-c2df751ae3d5",
   "metadata": {},
   "outputs": [],
   "source": [
    "import pandas as pd\n",
    "from sklearn.model_selection import train_test_split\n",
    "from sklearn.feature_extraction.text import TfidfVectorizer\n",
    "from sklearn.ensemble import RandomForestClassifier\n",
    "from sklearn.metrics import accuracy_score"
   ]
  },
  {
   "cell_type": "code",
   "execution_count": 2,
   "id": "814159cf-66e5-4fc3-bb90-6ea75ec5c2f0",
   "metadata": {},
   "outputs": [],
   "source": [
    "df = pd.read_csv(r\"E:\\jobs_dataset_with_features.csv\")"
   ]
  },
  {
   "cell_type": "code",
   "execution_count": 3,
   "id": "6e99f4a1-749e-4957-8079-5e0c674f470a",
   "metadata": {},
   "outputs": [
    {
     "data": {
      "text/html": [
       "<div>\n",
       "<style scoped>\n",
       "    .dataframe tbody tr th:only-of-type {\n",
       "        vertical-align: middle;\n",
       "    }\n",
       "\n",
       "    .dataframe tbody tr th {\n",
       "        vertical-align: top;\n",
       "    }\n",
       "\n",
       "    .dataframe thead th {\n",
       "        text-align: right;\n",
       "    }\n",
       "</style>\n",
       "<table border=\"1\" class=\"dataframe\">\n",
       "  <thead>\n",
       "    <tr style=\"text-align: right;\">\n",
       "      <th></th>\n",
       "      <th>Role</th>\n",
       "      <th>Features</th>\n",
       "    </tr>\n",
       "  </thead>\n",
       "  <tbody>\n",
       "    <tr>\n",
       "      <th>0</th>\n",
       "      <td>Social Media Manager</td>\n",
       "      <td>5 to 15 Years Digital Marketing Specialist M.T...</td>\n",
       "    </tr>\n",
       "    <tr>\n",
       "      <th>1</th>\n",
       "      <td>Frontend Web Developer</td>\n",
       "      <td>2 to 12 Years Web Developer BCA HTML, CSS, Jav...</td>\n",
       "    </tr>\n",
       "    <tr>\n",
       "      <th>2</th>\n",
       "      <td>Quality Control Manager</td>\n",
       "      <td>0 to 12 Years Operations Manager PhD Quality c...</td>\n",
       "    </tr>\n",
       "    <tr>\n",
       "      <th>3</th>\n",
       "      <td>Wireless Network Engineer</td>\n",
       "      <td>4 to 11 Years Network Engineer PhD Wireless ne...</td>\n",
       "    </tr>\n",
       "    <tr>\n",
       "      <th>4</th>\n",
       "      <td>Conference Manager</td>\n",
       "      <td>1 to 12 Years Event Manager MBA Event planning...</td>\n",
       "    </tr>\n",
       "  </tbody>\n",
       "</table>\n",
       "</div>"
      ],
      "text/plain": [
       "                        Role  \\\n",
       "0       Social Media Manager   \n",
       "1     Frontend Web Developer   \n",
       "2    Quality Control Manager   \n",
       "3  Wireless Network Engineer   \n",
       "4         Conference Manager   \n",
       "\n",
       "                                            Features  \n",
       "0  5 to 15 Years Digital Marketing Specialist M.T...  \n",
       "1  2 to 12 Years Web Developer BCA HTML, CSS, Jav...  \n",
       "2  0 to 12 Years Operations Manager PhD Quality c...  \n",
       "3  4 to 11 Years Network Engineer PhD Wireless ne...  \n",
       "4  1 to 12 Years Event Manager MBA Event planning...  "
      ]
     },
     "execution_count": 3,
     "metadata": {},
     "output_type": "execute_result"
    }
   ],
   "source": [
    "df.head()"
   ]
  },
  {
   "cell_type": "code",
   "execution_count": 4,
   "id": "5a088543-02e4-4fdf-8cc2-8f00d0c976fa",
   "metadata": {},
   "outputs": [
    {
     "data": {
      "text/plain": [
       "(1615940, 2)"
      ]
     },
     "execution_count": 4,
     "metadata": {},
     "output_type": "execute_result"
    }
   ],
   "source": [
    "df.shape"
   ]
  },
  {
   "cell_type": "code",
   "execution_count": 7,
   "id": "d6af6c3c-d765-4e2a-b120-0a77960a0bae",
   "metadata": {},
   "outputs": [
    {
     "data": {
      "text/plain": [
       "Role\n",
       "Interaction Designer          20580\n",
       "Network Administrator         17470\n",
       "User Interface Designer       14036\n",
       "Social Media Manager          13945\n",
       "User Experience Designer      13935\n",
       "                              ...  \n",
       "Benefits Coordinator           6839\n",
       "Research Analyst               6830\n",
       "Administrative Coordinator     6803\n",
       "IT Support Specialist          6799\n",
       "UI/UX Designer                 6743\n",
       "Name: count, Length: 61, dtype: int64"
      ]
     },
     "execution_count": 7,
     "metadata": {},
     "output_type": "execute_result"
    }
   ],
   "source": [
    "# dropping classes with less than 6500 instances\n",
    "min_count = 6500\n",
    "role_counts = df['Role'].value_counts()\n",
    "dropped_classes = role_counts[role_counts < min_count].index\n",
    "filtered_df = df[~df['Role'].isin(dropped_classes)].reset_index(drop=True)\n",
    "\n",
    "# checking the uploaded role counts\n",
    "filtered_df['Role'].value_counts()"
   ]
  },
  {
   "cell_type": "code",
   "execution_count": 10,
   "id": "e5aad369-5bcf-4e68-953d-c97c605cfe4f",
   "metadata": {},
   "outputs": [
    {
     "data": {
      "text/plain": [
       "61"
      ]
     },
     "execution_count": 10,
     "metadata": {},
     "output_type": "execute_result"
    }
   ],
   "source": [
    "len(filtered_df['Role'].value_counts())"
   ]
  },
  {
   "cell_type": "code",
   "execution_count": 11,
   "id": "77e2864a-d769-4ca4-b773-5d454e2c1455",
   "metadata": {},
   "outputs": [],
   "source": [
    "df = filtered_df.sample(n=10000)"
   ]
  },
  {
   "cell_type": "code",
   "execution_count": 12,
   "id": "c12944af-eefc-4bf2-8d33-685cb405c92e",
   "metadata": {},
   "outputs": [
    {
     "data": {
      "text/html": [
       "<div>\n",
       "<style scoped>\n",
       "    .dataframe tbody tr th:only-of-type {\n",
       "        vertical-align: middle;\n",
       "    }\n",
       "\n",
       "    .dataframe tbody tr th {\n",
       "        vertical-align: top;\n",
       "    }\n",
       "\n",
       "    .dataframe thead th {\n",
       "        text-align: right;\n",
       "    }\n",
       "</style>\n",
       "<table border=\"1\" class=\"dataframe\">\n",
       "  <thead>\n",
       "    <tr style=\"text-align: right;\">\n",
       "      <th></th>\n",
       "      <th>Role</th>\n",
       "      <th>Features</th>\n",
       "    </tr>\n",
       "  </thead>\n",
       "  <tbody>\n",
       "    <tr>\n",
       "      <th>449764</th>\n",
       "      <td>Network Administrator</td>\n",
       "      <td>5 to 15 Years Network Engineer MBA Network man...</td>\n",
       "    </tr>\n",
       "    <tr>\n",
       "      <th>479250</th>\n",
       "      <td>Research Analyst</td>\n",
       "      <td>2 to 14 Years Research Scientist PhD Data coll...</td>\n",
       "    </tr>\n",
       "    <tr>\n",
       "      <th>490913</th>\n",
       "      <td>Social Media Manager</td>\n",
       "      <td>3 to 13 Years Digital Marketing Specialist BCA...</td>\n",
       "    </tr>\n",
       "    <tr>\n",
       "      <th>13231</th>\n",
       "      <td>Retirement Planner</td>\n",
       "      <td>1 to 9 Years Financial Advisor M.Com Retiremen...</td>\n",
       "    </tr>\n",
       "    <tr>\n",
       "      <th>227316</th>\n",
       "      <td>Customer Support Specialist</td>\n",
       "      <td>5 to 8 Years Customer Success Manager BBA Cust...</td>\n",
       "    </tr>\n",
       "  </tbody>\n",
       "</table>\n",
       "</div>"
      ],
      "text/plain": [
       "                               Role  \\\n",
       "449764        Network Administrator   \n",
       "479250             Research Analyst   \n",
       "490913         Social Media Manager   \n",
       "13231            Retirement Planner   \n",
       "227316  Customer Support Specialist   \n",
       "\n",
       "                                                 Features  \n",
       "449764  5 to 15 Years Network Engineer MBA Network man...  \n",
       "479250  2 to 14 Years Research Scientist PhD Data coll...  \n",
       "490913  3 to 13 Years Digital Marketing Specialist BCA...  \n",
       "13231   1 to 9 Years Financial Advisor M.Com Retiremen...  \n",
       "227316  5 to 8 Years Customer Success Manager BBA Cust...  "
      ]
     },
     "execution_count": 12,
     "metadata": {},
     "output_type": "execute_result"
    }
   ],
   "source": [
    "df.head()"
   ]
  },
  {
   "cell_type": "code",
   "execution_count": 16,
   "id": "f8541da0-dcad-4f0d-b6e7-7bfa13a8b0e9",
   "metadata": {},
   "outputs": [],
   "source": [
    "x = df['Features']\n",
    "y = df['Role']"
   ]
  },
  {
   "cell_type": "code",
   "execution_count": 17,
   "id": "1f697d33-06d9-4bb5-9525-682a768f6f89",
   "metadata": {},
   "outputs": [],
   "source": [
    "x_train,x_test,y_train,y_test = train_test_split(x,y,test_size=0.2,random_state=42)"
   ]
  },
  {
   "cell_type": "code",
   "execution_count": 18,
   "id": "2d1e0151-f2a5-47f2-b814-16d7dec8ad04",
   "metadata": {},
   "outputs": [],
   "source": [
    "tfidf_vectorizer = TfidfVectorizer()\n",
    "x_train_tfidf = tfidf_vectorizer.fit_transform(x_train)\n",
    "x_test_tfidf = tfidf_vectorizer.transform(x_test)"
   ]
  },
  {
   "cell_type": "code",
   "execution_count": 19,
   "id": "48bb0e86-642e-431d-8bb0-a7ebf3ed7292",
   "metadata": {},
   "outputs": [
    {
     "name": "stdout",
     "output_type": "stream",
     "text": [
      "accuracy :  1.0\n"
     ]
    }
   ],
   "source": [
    "rf_classifier = RandomForestClassifier()\n",
    "rf_classifier.fit(x_train_tfidf,y_train)\n",
    "\n",
    "y_pred = rf_classifier.predict(x_test_tfidf)\n",
    "print('accuracy : ',accuracy_score(y_test,y_pred))"
   ]
  },
  {
   "cell_type": "code",
   "execution_count": 20,
   "id": "63806e49-be3b-4c2d-b74c-77f4684b35fd",
   "metadata": {},
   "outputs": [],
   "source": [
    "import re\n",
    "def cleanResume(txt):\n",
    "    cleanText = re.sub('http\\S+\\s', ' ', txt)\n",
    "    cleanText = re.sub('RT|cc', ' ', cleanText)\n",
    "    cleanText = re.sub('#\\S+\\s', ' ', cleanText)\n",
    "    cleanText = re.sub('@\\S+', '  ', cleanText)  \n",
    "    cleanText = re.sub('[%s]' % re.escape(\"\"\"!\"#$%&'()*+,-./:;<=>?@[\\]^_`{|}~\"\"\"), ' ', cleanText)\n",
    "    cleanText = re.sub(r'[^\\x00-\\x7f]', ' ', cleanText) \n",
    "    cleanText = re.sub('\\s+', ' ', cleanText)\n",
    "    return cleanText\n",
    "\n",
    "\n",
    "\n",
    "def predict_category(resume_text):\n",
    "    resume_text= cleanResume(resume_text)\n",
    "    resume_tfidf = tfidf_vectorizer.transform([resume_text])\n",
    "    predicted_category = rf_classifier.predict(resume_tfidf)[0]\n",
    "    return predicted_category"
   ]
  },
  {
   "cell_type": "code",
   "execution_count": 21,
   "id": "e2e0e6ad-0cca-4ae6-a7cf-8d9094b4c5a6",
   "metadata": {},
   "outputs": [
    {
     "name": "stdout",
     "output_type": "stream",
     "text": [
      "Predicted Category: Data Analyst\n"
     ]
    }
   ],
   "source": [
    "resume_file = \"\"\"\"📍 New York, USA | 📧 johndoe@example.com | 📞 +1 234-567-8901 | 🔗 LinkedIn Profile\n",
    "\n",
    "Professional Summary\n",
    "Results-driven Data Scientist with 4+ years of experience in predictive modeling, machine learning, and data analysis. Passionate about leveraging data-driven insights to solve complex business problems. Skilled in Python, SQL, and cloud-based analytics platforms.\n",
    "\n",
    "Work Experience\n",
    "Data Scientist | ABC Tech Solutions (Jan 2021 – Present)\n",
    "📍 New York, USA\n",
    "\n",
    "Developed a customer churn prediction model, reducing churn by 20%.\n",
    "Built automated dashboards in Power BI to visualize sales trends.\n",
    "Optimized ML models, improving prediction accuracy by 15%.\n",
    "Data Analyst | XYZ Corporation (Jun 2018 – Dec 2020)\n",
    "📍 San Francisco, USA\n",
    "\n",
    "Conducted exploratory data analysis (EDA) to improve business strategies.\n",
    "Improved data processing efficiency, reducing runtime by 30%.\n",
    "Created SQL queries and reports to analyze customer behavior.\n",
    "Education\n",
    "🎓 Bachelor’s in Computer Science | University of California, Berkeley (2014 – 2018)\n",
    "\n",
    "Skills\n",
    "✔ Programming: Python, R, SQL\n",
    "✔ Machine Learning: Scikit-learn, TensorFlow\n",
    "✔ Data Visualization: Matplotlib, Seaborn, Power BI\n",
    "✔ Cloud Platforms: AWS, Google Cloud\n",
    "✔ Tools: Git, Jupyter Notebook\n",
    "\n",
    "\"\"\"\n",
    "\n",
    "predicted_category = predict_category(resume_file)\n",
    "print(\"Predicted Category:\", predicted_category)"
   ]
  },
  {
   "cell_type": "code",
   "execution_count": 22,
   "id": "ce764003-dfe6-45c9-9207-eecbd5973d29",
   "metadata": {},
   "outputs": [],
   "source": [
    "import pickle\n",
    "pickle.dump(rf_classifier,open('E:\\ResumePrasingSavedModels/rf_classifier_jobRecommendation.pkl','wb'))\n",
    "pickle.dump(tfidf_vectorizer,open('E:\\ResumePrasingSavedModels/tfidf_vectorizer_jobRecommendation.pkl','wb'))"
   ]
  },
  {
   "cell_type": "code",
   "execution_count": null,
   "id": "e649f753-14df-413b-8948-ed115382855f",
   "metadata": {},
   "outputs": [],
   "source": []
  }
 ],
 "metadata": {
  "kernelspec": {
   "display_name": "Python 3 (ipykernel)",
   "language": "python",
   "name": "python3"
  },
  "language_info": {
   "codemirror_mode": {
    "name": "ipython",
    "version": 3
   },
   "file_extension": ".py",
   "mimetype": "text/x-python",
   "name": "python",
   "nbconvert_exporter": "python",
   "pygments_lexer": "ipython3",
   "version": "3.11.7"
  }
 },
 "nbformat": 4,
 "nbformat_minor": 5
}
